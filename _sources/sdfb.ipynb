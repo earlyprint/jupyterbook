{
 "cells": [
  {
   "cell_type": "code",
   "execution_count": 1,
   "metadata": {},
   "outputs": [],
   "source": [
    "import csv, glob, re, json, textdistance\n",
    "import networkx as nx\n",
    "from lxml import etree"
   ]
  },
  {
   "cell_type": "code",
   "execution_count": 2,
   "metadata": {},
   "outputs": [],
   "source": [
    "# Get a list of standard early modern first name abbreviations, and what they stand for\n",
    "with open(\"name_abbrev.json\", \"r\") as abbrevfile:\n",
    "    name_abbrev = json.loads(abbrevfile.read())\n",
    "\n",
    "def standardize_name(name): # Define our function\n",
    "    name = name.replace(\"[\",\"\").replace(\"]\",\"\") # Remove bracket characters\n",
    "    name = name.strip(\",'\") # Remove commas and apostrophes from the beginning or end of the name\n",
    "    name = name.replace(\"Iohn\", \"John\") # Replace Iohn with John (a common spelling variant)\n",
    "    # Finally, look through each abbreviation and, if found,\n",
    "    # replace it with the full first name.\n",
    "    for k,v in name_abbrev.items():\n",
    "        name = re.sub(f\"{k}[^a-zA-Z\\s]\", f\"{v}\", name)\n",
    "    return name"
   ]
  },
  {
   "cell_type": "code",
   "execution_count": 4,
   "metadata": {},
   "outputs": [
    {
     "ename": "KeyboardInterrupt",
     "evalue": "",
     "output_type": "error",
     "traceback": [
      "\u001b[0;31m---------------------------------------------------------------------------\u001b[0m",
      "\u001b[0;31mKeyboardInterrupt\u001b[0m                         Traceback (most recent call last)",
      "\u001b[0;32m<ipython-input-4-60d1d72c0ad0>\u001b[0m in \u001b[0;36m<module>\u001b[0;34m\u001b[0m\n\u001b[1;32m      6\u001b[0m \u001b[0;32mfor\u001b[0m \u001b[0mf\u001b[0m \u001b[0;32min\u001b[0m \u001b[0mfiles\u001b[0m\u001b[0;34m:\u001b[0m \u001b[0;31m# Loop through each file\u001b[0m\u001b[0;34m\u001b[0m\u001b[0;34m\u001b[0m\u001b[0m\n\u001b[1;32m      7\u001b[0m     \u001b[0mtcp_id\u001b[0m \u001b[0;34m=\u001b[0m \u001b[0mf\u001b[0m\u001b[0;34m.\u001b[0m\u001b[0msplit\u001b[0m\u001b[0;34m(\u001b[0m\u001b[0;34m\"/\"\u001b[0m\u001b[0;34m)\u001b[0m\u001b[0;34m[\u001b[0m\u001b[0;34m-\u001b[0m\u001b[0;36m1\u001b[0m\u001b[0;34m]\u001b[0m\u001b[0;34m.\u001b[0m\u001b[0msplit\u001b[0m\u001b[0;34m(\u001b[0m\u001b[0;34m\"_\"\u001b[0m\u001b[0;34m)\u001b[0m\u001b[0;34m[\u001b[0m\u001b[0;36m0\u001b[0m\u001b[0;34m]\u001b[0m \u001b[0;31m# Get TCP ID from filename\u001b[0m\u001b[0;34m\u001b[0m\u001b[0;34m\u001b[0m\u001b[0m\n\u001b[0;32m----> 8\u001b[0;31m     \u001b[0mmetadata\u001b[0m \u001b[0;34m=\u001b[0m \u001b[0metree\u001b[0m\u001b[0;34m.\u001b[0m\u001b[0mparse\u001b[0m\u001b[0;34m(\u001b[0m\u001b[0mf\u001b[0m\u001b[0;34m,\u001b[0m \u001b[0mparser\u001b[0m\u001b[0;34m)\u001b[0m \u001b[0;31m# Create lxml etree object\u001b[0m\u001b[0;34m\u001b[0m\u001b[0;34m\u001b[0m\u001b[0m\n\u001b[0m\u001b[1;32m      9\u001b[0m \u001b[0;34m\u001b[0m\u001b[0m\n\u001b[1;32m     10\u001b[0m     \u001b[0;31m# Get a list of all printer's names\u001b[0m\u001b[0;34m\u001b[0m\u001b[0;34m\u001b[0m\u001b[0;34m\u001b[0m\u001b[0m\n",
      "\u001b[0;31mKeyboardInterrupt\u001b[0m: "
     ]
    }
   ],
   "source": [
    "files = glob.glob(\"../../epmetadata/header/*.xml\")\n",
    "parser = etree.XMLParser(collect_ids=False, encoding='utf-8')\n",
    "nsmap={'tei': 'http://www.tei-c.org/ns/1.0'}\n",
    "\n",
    "edgelist = [] # Create an empty list\n",
    "for f in files: # Loop through each file\n",
    "    tcp_id = f.split(\"/\")[-1].split(\"_\")[0] # Get TCP ID from filename\n",
    "    metadata = etree.parse(f, parser) # Create lxml etree object\n",
    "    \n",
    "    # Get a list of all printer's names\n",
    "    printers = metadata.findall(\".//tei:person[@type='printer']/tei:persName\", namespaces=nsmap)\n",
    "    \n",
    "    # Get the date of the printing (if there is one)\n",
    "    try:\n",
    "        date = metadata.find(\".//tei:sourceDesc//tei:date\", namespaces=nsmap).get(\"when\")\n",
    "    except AttributeError:\n",
    "        date = None\n",
    "    \n",
    "    # Add each printers name to the edgelist\n",
    "    for p in printers:\n",
    "        edgelist.append((tcp_id, standardize_name(p.text), {'date':date}))\n",
    "        \n",
    "print(edgelist)"
   ]
  },
  {
   "cell_type": "code",
   "execution_count": 18,
   "metadata": {},
   "outputs": [
    {
     "name": "stdout",
     "output_type": "stream",
     "text": [
      "1.0\n"
     ]
    }
   ],
   "source": [
    "names = set([e[1] for e in edgelist])\n",
    "\n",
    "# print(textdistance.hamming.normalized_distance(*names))\n",
    "\n",
    "    \n",
    "with open('SDFB_people_2021_03_19.csv', 'r') as peoplecsv:\n",
    "    reader = csv.DictReader(peoplecsv)\n",
    "    sdfb_names = [r['display_name'] for r in reader]\n",
    "#     print(sdfb_names)\n",
    "\n",
    "for n,sdfb in product(names,sdfb_names):\n",
    "    print(text)"
   ]
  },
  {
   "cell_type": "code",
   "execution_count": null,
   "metadata": {},
   "outputs": [],
   "source": []
  }
 ],
 "metadata": {
  "kernelspec": {
   "display_name": "Python 3",
   "language": "python",
   "name": "python3"
  },
  "language_info": {
   "codemirror_mode": {
    "name": "ipython",
    "version": 3
   },
   "file_extension": ".py",
   "mimetype": "text/x-python",
   "name": "python",
   "nbconvert_exporter": "python",
   "pygments_lexer": "ipython3",
   "version": "3.8.5"
  }
 },
 "nbformat": 4,
 "nbformat_minor": 4
}
